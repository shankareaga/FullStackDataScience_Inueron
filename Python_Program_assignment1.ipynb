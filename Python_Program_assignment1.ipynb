{
 "cells": [
  {
   "cell_type": "markdown",
   "metadata": {},
   "source": [
    "### Python Programming Assignment1 - submitted by Shankar Eaga Dt 23Mar2021"
   ]
  },
  {
   "cell_type": "code",
   "execution_count": 1,
   "metadata": {},
   "outputs": [
    {
     "name": "stdout",
     "output_type": "stream",
     "text": [
      "Hello Python\n"
     ]
    }
   ],
   "source": [
    "# Question 1\n",
    "# 1.\tWrite a Python program to print \"Hello Python\"?\n",
    "Message = \"Hello Python\" # print message is stored in a variable \n",
    "print(Message)"
   ]
  },
  {
   "cell_type": "code",
   "execution_count": 2,
   "metadata": {},
   "outputs": [
    {
     "name": "stdout",
     "output_type": "stream",
     "text": [
      "The addition of variable_1 and variable_2 is equal to : 15\n"
     ]
    }
   ],
   "source": [
    "# Question 2\n",
    "# 2.\tWrite a Python program to do arithmetical operations addition and division.?\n",
    "Variable_1 = 10\n",
    "Variable_2 = 5\n",
    "print(\"The addition of variable_1 and variable_2 is equal to :\", Variable_1+Variable_2)"
   ]
  },
  {
   "cell_type": "code",
   "execution_count": 3,
   "metadata": {},
   "outputs": [
    {
     "name": "stdout",
     "output_type": "stream",
     "text": [
      "The division of variable_1 and variable_2 is equal to : 2.0\n"
     ]
    }
   ],
   "source": [
    "print(\"The division of variable_1 and variable_2 is equal to :\", Variable_1 / Variable_2)"
   ]
  },
  {
   "cell_type": "code",
   "execution_count": 4,
   "metadata": {},
   "outputs": [
    {
     "name": "stdout",
     "output_type": "stream",
     "text": [
      "The area of base 10 and height 20 is equal to  100.0\n"
     ]
    }
   ],
   "source": [
    "# question 3\n",
    "# 3.\tWrite a Python program to find the area of a triangle?\n",
    "# To find area of a triangle , need base and height and use formula 1/2(base * height).\n",
    "\n",
    "# define base and height of area\n",
    "base = 10\n",
    "height = 20\n",
    "area = 1/2*(base * height)\n",
    "print(\"The area of base\", base, \"and height\", height, \"is equal to \", area)"
   ]
  },
  {
   "cell_type": "code",
   "execution_count": 10,
   "metadata": {},
   "outputs": [
    {
     "name": "stdout",
     "output_type": "stream",
     "text": [
      "20\n",
      "10\n"
     ]
    }
   ],
   "source": [
    "# question 4\n",
    "# 4.\tWrite a Python program to swap two variables?\n",
    "a = 10\n",
    "b = 20\n",
    "# there are couple of ways you can swap values between two variables \n",
    "# method 1 - create a temp variable \n",
    "temp = a\n",
    "a = b \n",
    "b = temp\n",
    "print(a)\n",
    "print(b)"
   ]
  },
  {
   "cell_type": "code",
   "execution_count": 12,
   "metadata": {},
   "outputs": [
    {
     "name": "stdout",
     "output_type": "stream",
     "text": [
      "x: 20\n",
      "y: 10\n"
     ]
    }
   ],
   "source": [
    "# method 2 \n",
    "x = 10\n",
    "y = 20\n",
    "x,y = y, x\n",
    "print(\"x:\", x)\n",
    "print(\"y:\", y)"
   ]
  },
  {
   "cell_type": "code",
   "execution_count": 15,
   "metadata": {},
   "outputs": [
    {
     "name": "stdout",
     "output_type": "stream",
     "text": [
      "5\n"
     ]
    }
   ],
   "source": [
    "# question 5\n",
    "# 5.\tWrite a Python program to generate a random number?\n",
    "\n",
    "import random\n",
    "\n",
    "print(random.randrange(1, 10)) # Everytime run the code, generate a random number between 1 and 10 "
   ]
  },
  {
   "cell_type": "code",
   "execution_count": null,
   "metadata": {},
   "outputs": [],
   "source": []
  }
 ],
 "metadata": {
  "kernelspec": {
   "display_name": "Python 3",
   "language": "python",
   "name": "python3"
  },
  "language_info": {
   "codemirror_mode": {
    "name": "ipython",
    "version": 3
   },
   "file_extension": ".py",
   "mimetype": "text/x-python",
   "name": "python",
   "nbconvert_exporter": "python",
   "pygments_lexer": "ipython3",
   "version": "3.8.3"
  }
 },
 "nbformat": 4,
 "nbformat_minor": 4
}
