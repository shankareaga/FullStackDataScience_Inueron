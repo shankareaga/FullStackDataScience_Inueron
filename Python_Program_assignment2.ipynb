{
 "cells": [
  {
   "cell_type": "markdown",
   "metadata": {},
   "source": [
    "### Python Programming Assignment 2 - submitted by Shankar Eaga Dt 23Mar2021"
   ]
  },
  {
   "cell_type": "code",
   "execution_count": 1,
   "metadata": {},
   "outputs": [
    {
     "name": "stdout",
     "output_type": "stream",
     "text": [
      "Enter a value of kilometer to convert into miles : 100\n",
      "100 Kilometers is equal to :  62.1 Miles\n"
     ]
    }
   ],
   "source": [
    "# Question 1\n",
    "# 1.\tWrite a Python program to convert kilometers to miles?\n",
    "# 1 km is equal to 0.621 miles \n",
    "Var_kms = int(input(\"Enter a value of kilometer to convert into miles : \"))\n",
    "print(Var_kms, \"Kilometers is equal to : \", 0.621*Var_kms, \"Miles\")\n"
   ]
  },
  {
   "cell_type": "code",
   "execution_count": 2,
   "metadata": {},
   "outputs": [
    {
     "name": "stdout",
     "output_type": "stream",
     "text": [
      "Enter a value of Deg Celsius to convert into Deg Fahrenheit : 100\n",
      "100.0 Deg Celsius is equal to :  212.0 Deg Fahrenheit\n"
     ]
    }
   ],
   "source": [
    "# Question 2\n",
    "# 2.\tWrite a Python program to convert Celsius to Fahrenheit?\n",
    "# Formula to convert Celsius to Fahrenheit : (T°F − 32) / 180 = T°C /100\n",
    "Var_degCels = float(input(\"Enter a value of Deg Celsius to convert into Deg Fahrenheit : \"))\n",
    "print(Var_degCels, \"Deg Celsius is equal to : \", (Var_degCels / 100) * 180 + 32, \"Deg Fahrenheit\")"
   ]
  },
  {
   "cell_type": "code",
   "execution_count": 3,
   "metadata": {},
   "outputs": [
    {
     "name": "stdout",
     "output_type": "stream",
     "text": [
      "Object `calendar` not found.\n",
      "Enter the year in yyyy format : 2021\n",
      "Enter the month in mm format 2\n",
      "   February 2021\n",
      "Mo Tu We Th Fr Sa Su\n",
      " 1  2  3  4  5  6  7\n",
      " 8  9 10 11 12 13 14\n",
      "15 16 17 18 19 20 21\n",
      "22 23 24 25 26 27 28\n",
      "\n"
     ]
    }
   ],
   "source": [
    "3.\tWrite a Python program to display calendar?\n",
    "import calendar\n",
    "yy = int(input(\"Enter the year in yyyy format : \"))\n",
    "\n",
    "mm = int(input(\"Enter the month in mm format \"))\n",
    "\n",
    "print(calendar.month(yy, mm))"
   ]
  },
  {
   "cell_type": "code",
   "execution_count": 4,
   "metadata": {},
   "outputs": [
    {
     "name": "stdout",
     "output_type": "stream",
     "text": [
      "Object `equation` not found.\n",
      "Enter the value of coeffient a : 1\n",
      "Enter the value of coeffient b : 5\n",
      "Enter the value of coeffient c : 5\n",
      "The solutions of equation  (-1.381966011250105+0j) (-3.618033988749895+0j)\n"
     ]
    }
   ],
   "source": [
    "4.\tWrite a Python program to solve quadratic equation?\n",
    "# I am wrting python program using 'cmath' module incase solution is not real (discriminant is less than 0 , the value of sqrt(-1)) \n",
    "# Assume Quadratic equation with second order equation : ax**2 + bx + c = 0 , where a,b,c are coefficients, which are input in the program\n",
    "# solution for x is = (-b +/- (sqrt(b**2-4ac)))/2a \n",
    "\n",
    "import cmath\n",
    "a = float(input(\"Enter the value of coeffient a : \"))\n",
    "b = float(input(\"Enter the value of coeffient b : \"))\n",
    "c = float(input(\"Enter the value of coeffient c : \"))\n",
    "\n",
    "# first calculate d as the discriminant =b**2-4 *a *c \n",
    "d = b**2-4 * a *c\n",
    "\n",
    "# Now find the values of x \n",
    "\n",
    "x1 = (-b + cmath.sqrt(d)) / (2 * a)\n",
    "\n",
    "x2 = (-b - cmath.sqrt(d)) / (2 * a)\n",
    "\n",
    "print(\"The solutions of equation \",x1, x2)\n",
    " "
   ]
  },
  {
   "cell_type": "code",
   "execution_count": 5,
   "metadata": {},
   "outputs": [
    {
     "name": "stdout",
     "output_type": "stream",
     "text": [
      "Before swap, X is : 10  and Y is : 20\n",
      "After swap, X is : 20  and Y is : 10\n"
     ]
    }
   ],
   "source": [
    "# Question 5\n",
    "# 5.\tWrite a Python program to swap two variables without temp variable?\n",
    "x = 10\n",
    "y = 20\n",
    "print(\"Before swap, X is :\", x,\" and Y is :\", y)\n",
    "x, y = y,x\n",
    "print(\"After swap, X is :\", x,\" and Y is :\", y)"
   ]
  },
  {
   "cell_type": "code",
   "execution_count": null,
   "metadata": {},
   "outputs": [],
   "source": []
  }
 ],
 "metadata": {
  "kernelspec": {
   "display_name": "Python 3",
   "language": "python",
   "name": "python3"
  },
  "language_info": {
   "codemirror_mode": {
    "name": "ipython",
    "version": 3
   },
   "file_extension": ".py",
   "mimetype": "text/x-python",
   "name": "python",
   "nbconvert_exporter": "python",
   "pygments_lexer": "ipython3",
   "version": "3.8.3"
  }
 },
 "nbformat": 4,
 "nbformat_minor": 4
}
